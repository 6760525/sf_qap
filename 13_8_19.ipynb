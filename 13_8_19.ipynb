{
  "nbformat": 4,
  "nbformat_minor": 0,
  "metadata": {
    "colab": {
      "name": "13_8_19.ipynb",
      "provenance": [],
      "collapsed_sections": [],
      "authorship_tag": "ABX9TyNQRWq01DHeYDGFMpV7sDFg",
      "include_colab_link": true
    },
    "kernelspec": {
      "name": "python3",
      "display_name": "Python 3"
    },
    "language_info": {
      "name": "python"
    }
  },
  "cells": [
    {
      "cell_type": "markdown",
      "metadata": {
        "id": "view-in-github",
        "colab_type": "text"
      },
      "source": [
        "<a href=\"https://colab.research.google.com/github/6760525/sf_qap/blob/main/13_8_19.ipynb\" target=\"_parent\"><img src=\"https://colab.research.google.com/assets/colab-badge.svg\" alt=\"Open In Colab\"/></a>"
      ]
    },
    {
      "cell_type": "code",
      "metadata": {
        "colab": {
          "base_uri": "https://localhost:8080/"
        },
        "id": "io8I4jS89PJj",
        "outputId": "004b363c-d3f1-4a7f-a9de-6c2181ea7ff4"
      },
      "source": [
        "# 13.8.19\n",
        "\n",
        "tickets = []\n",
        "qty = int(input('Количество билетов на мероприятие, вы хотите приобрести:'))\n",
        "\n",
        "for i in range(qty):\n",
        "  age = None\n",
        "  while age == None:\n",
        "    try:\n",
        "      age = int(input(f'Возраст посетителя {i+1}:'))\n",
        "    except:\n",
        "      print('Возраст должен быть числом!')\n",
        "    else:\n",
        "      if age < 0:\n",
        "        age = None\n",
        "        print('Возраст должен быть неотрицательным числом!')\n",
        "  if age < 18:\n",
        "    tickets.append(0.00)\n",
        "  elif 18 <= age < 25:\n",
        "    tickets.append(990.00)\n",
        "  elif age >= 25:\n",
        "    tickets.append(1390.00)\n",
        "\n",
        "total = sum(tickets)\n",
        "\n",
        "if qty > 3:\n",
        "  total *= 0.9\n",
        "\n",
        "print(f'Сумма к оплате: {total} руб.')"
      ],
      "execution_count": null,
      "outputs": [
        {
          "output_type": "stream",
          "name": "stdout",
          "text": [
            "Количество билетов на мероприятие, вы хотите приобрести:4\n",
            "Возраст посетителя 1:5\n",
            "Возраст посетителя 2:10\n",
            "Возраст посетителя 3:20\n",
            "Возраст посетителя 4:30\n",
            "Сумма к оплате: 2142.0 руб.\n"
          ]
        }
      ]
    }
  ]
}