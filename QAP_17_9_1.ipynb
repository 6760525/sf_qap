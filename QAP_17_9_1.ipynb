{
  "nbformat": 4,
  "nbformat_minor": 0,
  "metadata": {
    "colab": {
      "name": "QAP-17-9-1.ipynb",
      "provenance": [],
      "authorship_tag": "ABX9TyNg3/JnR673huz6ZqKEaoB9",
      "include_colab_link": true
    },
    "kernelspec": {
      "name": "python3",
      "display_name": "Python 3"
    },
    "language_info": {
      "name": "python"
    }
  },
  "cells": [
    {
      "cell_type": "markdown",
      "metadata": {
        "id": "view-in-github",
        "colab_type": "text"
      },
      "source": [
        "<a href=\"https://colab.research.google.com/github/6760525/sf_qap/blob/main/QAP_17_9_1.ipynb\" target=\"_parent\"><img src=\"https://colab.research.google.com/assets/colab-badge.svg\" alt=\"Open In Colab\"/></a>"
      ]
    },
    {
      "cell_type": "code",
      "execution_count": null,
      "metadata": {
        "colab": {
          "base_uri": "https://localhost:8080/"
        },
        "id": "ckKngmDK46z4",
        "outputId": "a576cd4e-1595-477a-891d-2f975d8008cd"
      },
      "outputs": [
        {
          "output_type": "stream",
          "name": "stdout",
          "text": [
            "Введите последовательность чисел через пробел:9 8 1 2 5 3 10 -1\n",
            "Введите любое число:4\n",
            "Отсортированный массив: [-1.0, 1.0, 2.0, 3.0, 5.0, 8.0, 9.0, 10.0]\n",
            "Номер позиции элемента, который меньше 4.0, а следующий за ним больше или равен 4.0: 3\n",
            "Значение элемента: 3.0\n"
          ]
        }
      ],
      "source": [
        "def get_list(prompt='>'):\n",
        "  while True:\n",
        "    try:\n",
        "      str_list = input(prompt)\n",
        "      if str_list == '':\n",
        "        return None\n",
        "      else:\n",
        "        return list(map(float, str_list.split(' ')))\n",
        "    except:\n",
        "      print('Введите число или числа через пробел!')\n",
        "\n",
        "def sorting(lst):\n",
        "  for i in range(len(lst)-1):\n",
        "    for j in range(i+1, len(lst)):\n",
        "      if lst[j] < lst[i]:\n",
        "        lst[i], lst[j] = lst[j], lst[i]\n",
        "  return\n",
        "\n",
        "def bisearch(array, element, left, right): \n",
        "  if (left > right):\n",
        "    return -1\n",
        "  if element > array[-1]:\n",
        "    return len(array)-1\n",
        "\n",
        "  middle = (right + left) // 2\n",
        "\n",
        "  if (array[middle] < element) and (array[middle+1] >= element):\n",
        "    return middle\n",
        "  elif array[middle] >= element:\n",
        "    return bisearch(array, element, left, middle-1)\n",
        "  else:\n",
        "    return bisearch(array, element, middle+1, right)\n",
        "\n",
        "\n",
        "numlist = get_list('Введите последовательность чисел через пробел:')\n",
        "if numlist:\n",
        "  sorting(numlist)\n",
        "  x = get_list('Введите любое число:')\n",
        "  if x:\n",
        "    result = bisearch(numlist, x[0], 0, len(numlist))\n",
        "    print(f'Отсортированный массив: {numlist}')\n",
        "    if result != -1:\n",
        "      print(f'Номер позиции элемента, который меньше {x[0]}, а следующий за ним больше или равен {x[0]}: {result}')\n",
        "      print(f'Значение элемента: {numlist[result]}')\n",
        "    else:\n",
        "      print('Такого элемента в массиве не найдено.')\n",
        "  else:\n",
        "    print('Отмена')\n",
        "else:\n",
        "  print('Отмена')\n"
      ]
    },
    {
      "cell_type": "code",
      "source": [
        ""
      ],
      "metadata": {
        "id": "7WgMdEXHadz8"
      },
      "execution_count": null,
      "outputs": []
    }
  ]
}