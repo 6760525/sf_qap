{
  "nbformat": 4,
  "nbformat_minor": 0,
  "metadata": {
    "colab": {
      "name": "12.7.3.ipynb",
      "provenance": []
    },
    "kernelspec": {
      "name": "python3",
      "display_name": "Python 3"
    },
    "language_info": {
      "name": "python"
    }
  },
  "cells": [
    {
      "cell_type": "code",
      "metadata": {
        "colab": {
          "base_uri": "https://localhost:8080/"
        },
        "id": "lLTjkMxfkN-9",
        "outputId": "090d3152-178d-44b0-8701-da2674c2661b"
      },
      "source": [
        "# Задание 12.7.3\n",
        "\n",
        "# Словарь per_cent с распределением процентных ставок по вкладам в различных банках\n",
        "per_cent = {'ТКБ': 5.6, 'СКБ': 5.9, 'ВТБ': 4.28, 'СБЕР': 4.0}\n",
        "\n",
        "# На вход программы с клавиатуры вводится сумма money, которую человек планирует положить под проценты.\n",
        "money = int(input('Enter amount:'))\n",
        "\n",
        "# Формируем список deposit значений — накопленные средства за год вклада в каждом из банков\n",
        "deposit = [int(v*money/100) for v in per_cent.values()]\n",
        "\n",
        "# Поиск максимального значения и его вывод на экран\n",
        "print(f'Максимальная сумма, которую вы можете заработать — {max(deposit)}')\n"
      ],
      "execution_count": 1,
      "outputs": [
        {
          "output_type": "stream",
          "name": "stdout",
          "text": [
            "Enter amount:100000\n",
            "Максимальная сумма, которую вы можете заработать — 5900\n"
          ]
        }
      ]
    },
    {
      "cell_type": "code",
      "metadata": {
        "id": "14kPdmahkyrS"
      },
      "source": [
        ""
      ],
      "execution_count": null,
      "outputs": []
    }
  ]
}